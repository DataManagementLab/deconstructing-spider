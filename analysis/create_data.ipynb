{
 "cells": [
  {
   "cell_type": "markdown",
   "metadata": {
    "collapsed": true,
    "pycharm": {
     "name": "#%% md\n"
    }
   },
   "source": [
    "## Data Creation\n",
    "\n",
    "Add annotations to original spider training data"
   ]
  },
  {
   "cell_type": "code",
   "execution_count": 7,
   "metadata": {
    "pycharm": {
     "name": "#%%\n"
    }
   },
   "outputs": [],
   "source": [
    "SPIDER_DATA_FOLDER = \"spider_data\"\n",
    "TRAIN_JSON_FILENAME = \"train_spider.json\"\n",
    "ANNOTATION_FILENAME = \"annotations_export.csv\"\n",
    "EXPORT_FILENAME = \"train_spider.annotated.json\"\n",
    "EXPORT_PER_CATEGORY_PREFIX = \"train_spider.\"\n",
    "ENCODED_ORIGINAL_FILENAME = \"train_spider.questions.sbert.npy\"\n",
    "ENCODED_GENERALIZED_FILENAME = \"train_spider.generalized.sbert.npy\""
   ]
  },
  {
   "cell_type": "code",
   "execution_count": 8,
   "metadata": {
    "pycharm": {
     "name": "#%%\n"
    }
   },
   "outputs": [],
   "source": [
    "from os import path\n",
    "import json"
   ]
  },
  {
   "cell_type": "markdown",
   "metadata": {
    "pycharm": {
     "name": "#%% md\n"
    }
   },
   "source": [
    "Load original training data"
   ]
  },
  {
   "cell_type": "code",
   "execution_count": 9,
   "metadata": {
    "pycharm": {
     "name": "#%%\n"
    }
   },
   "outputs": [],
   "source": [
    "with open(path.join(SPIDER_DATA_FOLDER, TRAIN_JSON_FILENAME), \"r\") as train_json:\n",
    "    train_data = json.load(train_json)"
   ]
  },
  {
   "cell_type": "markdown",
   "metadata": {},
   "source": [
    "Load annotations"
   ]
  },
  {
   "cell_type": "code",
   "execution_count": 10,
   "metadata": {
    "pycharm": {
     "name": "#%%\n"
    }
   },
   "outputs": [],
   "source": [
    "annotation_labels = ['general', 'domain-specific', 'specialized-terms', 'errors', 'values', 'complex', 'synonyms', 'bad-generalization']\n",
    "label_count = len(annotation_labels)\n",
    "\n",
    "extracted_entries = [(title, list()) for title in annotation_labels]\n",
    "\n",
    "annotations = {}\n",
    "last_labels = []\n",
    "\n",
    "with open(path.join(SPIDER_DATA_FOLDER, ANNOTATION_FILENAME), 'r') as annotations_file:\n",
    "    for line in annotations_file.readlines():\n",
    "        line_split = line.split(';')\n",
    "        labels = line_split[:label_count]\n",
    "        generalized_query = line_split[label_count+1]\n",
    "        original_query = line_split[label_count+2]\n",
    "        if labels[0] == \"\":\n",
    "            labels = last_labels\n",
    "        last_labels = labels\n",
    "        annotations[original_query] = (labels, generalized_query)"
   ]
  },
  {
   "cell_type": "markdown",
   "metadata": {},
   "source": [
    "Add annotations"
   ]
  },
  {
   "cell_type": "code",
   "execution_count": 11,
   "metadata": {
    "pycharm": {
     "name": "#%%\n"
    }
   },
   "outputs": [],
   "source": [
    "original_questions = []\n",
    "generalized_questions = []\n",
    "\n",
    "for entry in train_data:\n",
    "    annotation = annotations.get(entry['question'], None)\n",
    "    if annotation is not None:\n",
    "        labels, generalized_query = annotation\n",
    "        entry['generalisation_categories'] = [annotation_labels[i] for i, label in enumerate(labels) if label == '1'] # TODO Short name instead of label id?\n",
    "        entry['generalized_question'] = generalized_query\n",
    "\n",
    "        for i, label_true_false in enumerate(labels):\n",
    "            if label_true_false == '1':\n",
    "                extracted_entries[i][1].append(entry)\n",
    "    else:\n",
    "        entry['generalisation_categories'] = [] # TODO Short name instead of label id?\n",
    "        entry['generalized_question'] = entry['question']\n",
    "\n",
    "    original_questions.append(entry['question'])\n",
    "    original_questions.append(entry['generalized_question'])"
   ]
  },
  {
   "cell_type": "markdown",
   "metadata": {},
   "source": [
    "Export annotated data"
   ]
  },
  {
   "cell_type": "code",
   "execution_count": 12,
   "metadata": {
    "pycharm": {
     "name": "#%%\n"
    }
   },
   "outputs": [],
   "source": [
    "with open(path.join(SPIDER_DATA_FOLDER, EXPORT_FILENAME), \"w\") as out_json:\n",
    "    json.dump(train_data, out_json, indent=4)\n",
    "\n",
    "for (label, extracted_list) in extracted_entries:\n",
    "    with open(path.join(SPIDER_DATA_FOLDER, f\"{EXPORT_PER_CATEGORY_PREFIX}{label}.json\"), \"w\") as out_json:\n",
    "        json.dump(extracted_list, out_json, indent=4)"
   ]
  },
  {
   "cell_type": "markdown",
   "metadata": {},
   "source": [
    "Represent using Sentence-Bert"
   ]
  },
  {
   "cell_type": "code",
   "execution_count": 13,
   "metadata": {
    "pycharm": {
     "name": "#%%\n"
    }
   },
   "outputs": [],
   "source": [
    "from sentence_transformers import SentenceTransformer\n",
    "\n",
    "embedder = SentenceTransformer('bert-base-nli-mean-tokens')"
   ]
  },
  {
   "cell_type": "code",
   "execution_count": null,
   "metadata": {
    "pycharm": {
     "is_executing": true,
     "name": "#%%\n"
    }
   },
   "outputs": [],
   "source": [
    "import numpy as np\n",
    "\n",
    "encoded_file_original_full_path = path.join(SPIDER_DATA_FOLDER, ENCODED_ORIGINAL_FILENAME)\n",
    "encoded_file_generalized_full_path = path.join(SPIDER_DATA_FOLDER, ENCODED_GENERALIZED_FILENAME)\n",
    "\n",
    "if path.isfile(encoded_file_original_full_path) and path.isfile(encoded_file_generalized_full_path):\n",
    "    original_embeddings = np.load(encoded_file_original_full_path)\n",
    "    generalized_embeddings = np.load(encoded_file_generalized_full_path)\n",
    "else:\n",
    "    original_embeddings = embedder.encode(original_questions)\n",
    "    np.save(encoded_file_original_full_path, original_embeddings)\n",
    "\n",
    "    generalized_embeddings = embedder.encode(generalized_questions)\n",
    "    np.save(encoded_file_generalized_full_path, generalized_embeddings)"
   ]
  },
  {
   "cell_type": "code",
   "execution_count": null,
   "metadata": {
    "pycharm": {
     "is_executing": true,
     "name": "#%%\n"
    }
   },
   "outputs": [],
   "source": []
  }
 ],
 "metadata": {
  "kernelspec": {
   "display_name": "Python 3 (ipykernel)",
   "language": "python",
   "name": "python3"
  },
  "language_info": {
   "codemirror_mode": {
    "name": "ipython",
    "version": 3
   },
   "file_extension": ".py",
   "mimetype": "text/x-python",
   "name": "python",
   "nbconvert_exporter": "python",
   "pygments_lexer": "ipython3",
   "version": "3.8.5"
  }
 },
 "nbformat": 4,
 "nbformat_minor": 1
}
