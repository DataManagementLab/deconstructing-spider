{
 "cells": [
  {
   "cell_type": "markdown",
   "metadata": {
    "collapsed": true,
    "pycharm": {
     "name": "#%% md\n"
    }
   },
   "source": [
    "## Simple grouping\n",
    "\n",
    "Group generalized data"
   ]
  },
  {
   "cell_type": "code",
   "execution_count": 219,
   "metadata": {
    "pycharm": {
     "name": "#%%\n"
    }
   },
   "outputs": [],
   "source": [
    "import os, json\n",
    "from collections import Counter"
   ]
  },
  {
   "cell_type": "code",
   "execution_count": 220,
   "metadata": {
    "pycharm": {
     "name": "#%%\n"
    }
   },
   "outputs": [
    {
     "name": "stdout",
     "output_type": "stream",
     "text": [
      "Loaded 6642 entries\n"
     ]
    }
   ],
   "source": [
    "# patterns_folder = os.path.join(\"spider_data\", \"patterns_dev_no_synonyms_values_first\")\n",
    "\n",
    "patterns_folder = os.path.join(\"spider_data\", \"patterns_no_synonyms_values_first\")\n",
    "# patterns_folder = os.path.join(\"spider_data\", \"patterns\")\n",
    "\n",
    "entries = []\n",
    "\n",
    "for pattern_json_file_name in os.listdir(patterns_folder):\n",
    "    if pattern_json_file_name.endswith(\".json\"):\n",
    "        pattern_json_file = os.path.join(patterns_folder, pattern_json_file_name)\n",
    "        with open(pattern_json_file, \"r\") as json_file:\n",
    "            entries.extend(entry for entry in json.load(json_file))\n",
    "\n",
    "print(f\"Loaded {len(entries)} entries\")"
   ]
  },
  {
   "cell_type": "code",
   "execution_count": 221,
   "metadata": {
    "pycharm": {
     "name": "#%%\n"
    }
   },
   "outputs": [],
   "source": [
    "entries_string = [\" \".join(entry[\"generalized_tokens\"]).lower() for entry in entries]"
   ]
  },
  {
   "cell_type": "code",
   "execution_count": 222,
   "metadata": {
    "pycharm": {
     "name": "#%%\n"
    }
   },
   "outputs": [],
   "source": [
    "exact_counter = Counter(entries_string)"
   ]
  },
  {
   "cell_type": "code",
   "execution_count": 223,
   "metadata": {
    "pycharm": {
     "name": "#%%\n"
    }
   },
   "outputs": [],
   "source": [
    "entries.sort(key=lambda x: x[\"generalized_nl\"])\n",
    "\n",
    "with open(os.path.join(patterns_folder, \"all.csv\"), \"w\") as all_csv:\n",
    "    for entry in entries:\n",
    "        all_csv.write(f'{\" \".join(entry[\"generalized_tokens\"]).lower()};{entry[\"id\"]};{entry[\"original_nl\"]};{entry[\"original_sql\"]}\\n')\n",
    "\n"
   ]
  },
  {
   "cell_type": "code",
   "execution_count": 224,
   "metadata": {
    "pycharm": {
     "name": "#%%\n"
    }
   },
   "outputs": [
    {
     "name": "stdout",
     "output_type": "stream",
     "text": [
      "63: how many {table} are there\n",
      "27: count the number of {table}\n",
      "21: how many {table} do we have\n",
      "11: count the {column_part} of {table}\n",
      "11: what are the {column} and {column} of {table}\n",
      "10: how many {column} are there\n",
      "8: how many {table} are there in total\n",
      "7: list the {column} of {table} in ascending order of {column}\n",
      "7: show all {column}\n",
      "6: what are the {column} and {column} of all {table}\n",
      "6: list the {column} of {table} whose {column} is not {value}\n",
      "6: what are the {column} of {table}\n",
      "6: how many distinct {column} are there\n",
      "5: which {column} has the most {table}\n",
      "5: please show the most common {column} of {table}\n",
      "5: show the {column} that have {number} {table}\n",
      "5: what are the {column} of {table} whose {column} is not {value}\n",
      "5: which {column} have {number} {table}\n",
      "5: what are the different {column}\n",
      "4: what is the {column_part} of the {table} named {ne}\n",
      "4: count the number of different {column}\n",
      "4: what are the {column} of all the {table}\n",
      "4: how many {table} are in each {table}\n",
      "4: how many {table} are there for each {column}\n",
      "4: what is the average {column} of {table}\n",
      "4: what is the {column} of the youngest {table}\n",
      "4: what is the total number of {column}\n",
      "4: how many different {column} are there\n",
      "4: list the {column} of {table} in descending order of {column}\n",
      "4: how many {table} in total\n",
      "4: for each {column} how many {table} are there\n",
      "3: what are the {column} of the {table} in alphabetical order\n",
      "3: list the {column} of {table} in ascending alphabetical order\n",
      "3: how many {table} does each {column} have\n",
      "3: show the {column} of {column} that have {number} {column}\n",
      "3: find the {column_part} of {table} in each {column_part}\n",
      "3: what are all the {column}\n",
      "3: what are the {column_part} of all {table}\n",
      "3: find the number of {table}\n",
      "3: what is the {column} that has the most {table}\n",
      "3: count the number of {column}\n",
      "3: count the total number of {table}\n",
      "3: what is the average {column} for all {table}\n",
      "3: what are the {column} of {table} in ascending order of {column}\n",
      "3: show the distinct {column} of {table}\n",
      "3: what is the average {column} of all {table}\n",
      "3: how many {column} does {ne} have\n",
      "3: return the average {column} across all {table}\n",
      "3: what are the {column} of {table} in ascending alphabetical order\n",
      "3: return the {column} of the {table} with the greatest {column}\n",
      "3: what is the most common {column} of {table}\n",
      "3: how many different {table} are there\n",
      "3: what are the {column} of {table} in descending order of {column}\n",
      "3: how many {table} exist\n",
      "3: what are the {column} {column} and {column} for all {table}\n",
      "3: show the {column} {column} and {column} for all {table}\n",
      "3: find the number of {table} in total\n",
      "3: show the most common {column} of {table}\n",
      "3: what are all the {column} and {column}\n",
      "3: which {column} have {number} {column}\n",
      "3: find the {column} of the {table} that do not have any {table}\n",
      "3: what are the {column} of {table} without {table}\n",
      "3: what are the {column_part} and {column} of {table}\n",
      "3: show the {column_part} of {table}\n",
      "3: how many {table} correspond to each {column}\n",
      "3: show all {column} and corresponding number of {table}\n",
      "3: list the {column} and {column} of all {table}\n",
      "3: show all distinct {column}\n",
      "3: what are the distinct {column}\n",
      "2: count the {column_part} of different {column}\n",
      "2: find distinct {column} of {table} of {table}\n",
      "2: what are the different {column} where {table} live\n",
      "2: find the {column} that has the most {table}\n",
      "2: what are the {column} and {column} of each {column}\n",
      "2: who are the {column} from {value}\n",
      "2: what are the {column_part} of all the {table}\n",
      "2: find the {column} that is used most frequently\n",
      "2: what is the {column} with the most {table}\n",
      "2: what {column} did the musician with {column} {ne} use in the {table} {ne}\n",
      "2: how many {column} does the {table} {ne} use\n",
      "2: how many different {column} are used in the {table} {ne}\n",
      "2: which {table} has the most {table}\n",
      "2: which {table} {column} has the {table} mate with {column} {ne} played the most\n",
      "2: what are the {table} {column} used in {table} {ne}\n",
      "2: how many different {column_part} of {column} are there\n",
      "2: what are the {column} of {column} whose {column} is not {value}\n",
      "2: what is the {column_part} of the {table} named tennis {table}\n",
      "2: find the {column_part} of the {table} pen and paper gaming\n",
      "2: show the {column_part} of the {table} who do n't participate in any {table}\n",
      "2: what is the {column_part} and {column} of the {table} participating in the most {table}\n",
      "2: what is the {column_part} of the {table} with the most {table}\n",
      "2: list the {column} of {column} in ascending alphabetical order\n",
      "2: what is the {column} of the oldest {table}\n",
      "2: display all the information about {ne}\n",
      "2: what is all the information about the marketing {table}\n",
      "2: display the {column_part} for those {table} who did {number} or more {table} in the past\n",
      "2: display the {column} and {column_part} of {table} in each of the {table}\n",
      "2: what is the average {column} for each {column}\n",
      "2: how many {table} were made before {ne}\n",
      "2: who is the {column} of {table} {ne}\n",
      "2: what are the average {column} of {table} grouped by {column} {column}\n",
      "2: show the {column} of the {table} with the highest {column}\n",
      "2: what are the {column} and {column} of each {table}\n",
      "2: show the {column} of {table} aged either {value} or {value}\n",
      "2: find {ne} of all {column}\n",
      "2: count the number of distinct {table} {column}\n",
      "2: how many different {column} are listed\n",
      "2: find the common {column} of {table} authors and {table}\n",
      "2: what are the {column} used both by some {table} authors and some {table}\n",
      "2: list the {column} of {table} in descending order\n",
      "2: return the {column} of {table} ordered alphabetically\n",
      "2: how many {table} are from each {column}\n",
      "2: what are the {column} that are shared by {number} {table}\n",
      "2: show the {column} of {table} in descending order of {column}\n",
      "2: show the {column} with {number} {table}\n",
      "2: what is the {column} of the {table} with the highest {column}\n",
      "2: what are the {column}\n",
      "2: show total {column} and number of {column} for {table} {ne}\n",
      "2: show all {column} {column_part} by {ne}\n",
      "2: how many different {column} do {table} have\n",
      "2: find the busiest {column} that runs most number of {table} in {ne}\n",
      "2: what is the {column_part} and last {column} of the {table} who participated in the most {table} after {ne}\n",
      "2: what is the {column} of the {table} {ne}\n",
      "2: what is the {column} of {table} {ne}\n",
      "2: show all {column} and {column}\n",
      "2: what are the {column_part} and {column_part} of all {table}\n",
      "2: list all {column} and {column}\n",
      "2: show the number of {table}\n",
      "2: what is the {column} with most number of {table}\n",
      "2: what are the {column} and {column} of the {table}\n",
      "2: show the {column} and {column} of {table}\n",
      "2: how many {table} are from {ne}\n",
      "2: list the {column} of {table} that are not {table}\n",
      "2: show the {column} of the tallest {table}\n",
      "2: what is the {column} {column_part} for {ne} in {ne}\n",
      "2: what is the {column} {column_part} of san francisco state university in {column} {number}\n",
      "2: find the count of universities whose {column} {column_part} is greater than the average {column} {column_part}\n",
      "2: what is the average {column_part} for a {ne} {column} in {ne}\n",
      "2: find the {column} and {table} {column} of the {table} with the lowest {table} {column}\n",
      "2: find the total {column_part} of {table}\n",
      "2: find the {column_part} of the {table} who made the most {table}\n",
      "2: find the {column_part} of the {table} who have {column} both on road and shipped\n",
      "2: report the distinct {column} and the {column}\n",
      "2: find the distinct {column} of the {table} who have {column}\n",
      "2: what are the distinct {column} of the {table} who have {column}\n",
      "2: what {column} have {number} {table}\n",
      "2: what is the {column_part} of the {table} {ne}\n",
      "2: what is the {column} of the {table} with {column} {ne}\n",
      "2: find the {column_part} of {table} for {table} with {column} {ne}\n",
      "2: find the {column_part} and {column_part} {column_part} of {table} of {table} with {column} {ne}\n",
      "2: show the {column} and the {column_part} of transactions\n",
      "2: show the {column} and the {column_part} of transactions for each {table}\n",
      "2: what is the number of {table}\n",
      "2: what are the {column} with the most {table}\n",
      "2: how many {table} have {table}\n",
      "2: find the {column} of {table} who did n't {table} any {table}\n",
      "2: list the {column} of {table} that do not have any {table}\n",
      "2: how many {table} live in {ne}\n",
      "2: list the {column} of {table} that are not on any {table}\n",
      "2: {column_part} the number of {table}\n",
      "2: find the {column} of all the {table} written by {ne}\n",
      "2: list the {column_part} of {table} in ascending order of {column}\n",
      "2: how many users are there\n",
      "2: which {column} has most number of {table}\n",
      "2: show all {column} with number of {table} affected\n",
      "2: find the {column_part} of {table} whose {column_part} contains {ne}\n",
      "2: count the number of distinct {column}\n",
      "2: list the {column} {column} and {column} of all {table}\n",
      "2: which {column} has least {column_part} of {table}\n",
      "2: how many {column} are in {ne}\n",
      "2: count the number of {column} in {ne}\n",
      "2: what is the total {column} of all {table}\n",
      "2: find the {column_part} {column_part} of all instructors who have taught some {table} and the {column}\n",
      "2: find the {column} of users who did not leave any {table}\n",
      "2: what {column} do we have\n",
      "2: what is the total {column_part} of {table}\n",
      "2: show the average {column_part} of {table} for different {table}\n",
      "2: find the {column} of students studying in {column_part} {number}\n",
      "2: what are the {column} of students in {column_part} {number}\n",
      "2: which {column} are used by {column} {number}\n",
      "2: what are the {column} of the {table} who teach {column} {number}\n",
      "2: how many students does {ne} teaches\n",
      "2: find the number of {table} who teach the student called {ne}\n",
      "2: which {column} is the most common among {table}\n",
      "2: what is the {column} of the shortest {table}\n",
      "2: how many {table} are there in each {column}\n",
      "2: find the {column_part} of different {column} which {table} are located at\n",
      "2: in how many different {column} are {table} located\n",
      "2: what is the {column} and {column} for {table} with {column_part} {number}\n",
      "2: what is the {column_part} of {table}\n",
      "2: show the {column} of {table} with {number} lowest {column}\n",
      "2: what is the average {column} for {table} from {ne} to {ne}\n",
      "2: what are the {column_part} {column_part} and {column_part} {column_part} of each {table}\n",
      "2: show the {column} {column_part} {column_part} and {column_part} {column_part} of all the {table} bookings\n",
      "2: what are the {column} {column_part} {column_part} and {column_part} {column_part} of each {table}\n",
      "Found 6204 different entries (with 195 grouped entries)\n"
     ]
    }
   ],
   "source": [
    "match_count = 0\n",
    "\n",
    "for s, c in exact_counter.most_common():\n",
    "    if c == 1:\n",
    "        break\n",
    "    print(f\"{c}: {s}\")\n",
    "    match_count += 1\n",
    "\n",
    "print(f\"Found {len(exact_counter)} different entries (with {match_count} grouped entries)\")"
   ]
  },
  {
   "cell_type": "code",
   "execution_count": null,
   "metadata": {
    "pycharm": {
     "name": "#%%\n"
    }
   },
   "outputs": [],
   "source": [
    "from nltk import FreqDist, ngrams\n",
    "\n",
    "MAX_SUBSTRING_LENTH = 10\n",
    "MAX_COMMON = 50\n",
    "\n",
    "print(len(entries_string))\n",
    "\n",
    "for i in range(1, MAX_SUBSTRING_LENTH+1):\n",
    "    fd = FreqDist()\n",
    "    for entry in entries:\n",
    "        fd.update(ngrams(entry[\"generalized_tokens\"], i))\n",
    "    # print(\";\".join(str(c) for _, c in fd.most_common(MAX_COMMON)))\n",
    "\n",
    "    covered_counts = []\n",
    "\n",
    "    for subsent_tokens, _ in fd.most_common(MAX_COMMON):\n",
    "        subsent = \" \".join(subsent_tokens).lower()\n",
    "        covered_counts.append(sum(1 for query_string in entries_string if subsent in query_string))\n",
    "    covered_counts.sort(reverse=True)\n",
    "    print(\";\".join(str(c) for c in covered_counts))\n",
    "    # print(\";\".join(str(sum(1 for query_string in entries_string if \" \".join(subsent) in query_string)) for subsent, _ in fd.most_common(MAX_COMMON)))"
   ]
  },
  {
   "cell_type": "code",
   "execution_count": 226,
   "metadata": {
    "pycharm": {
     "name": "#%%\n"
    }
   },
   "outputs": [],
   "source": [
    "sentences_set = set(\" \".join(entry[\"generalized_tokens\"]) for entry in entries)\n",
    "sentences_set_list = list(sentences_set)"
   ]
  },
  {
   "cell_type": "code",
   "execution_count": 227,
   "metadata": {
    "pycharm": {
     "name": "#%%\n"
    }
   },
   "outputs": [],
   "source": [
    "from sentence_transformers import SentenceTransformer\n",
    "\n",
    "embedder = SentenceTransformer('bert-base-nli-mean-tokens')"
   ]
  },
  {
   "cell_type": "code",
   "execution_count": 228,
   "metadata": {
    "pycharm": {
     "name": "#%%\n"
    }
   },
   "outputs": [],
   "source": [
    "import numpy as np"
   ]
  },
  {
   "cell_type": "code",
   "execution_count": null,
   "metadata": {
    "pycharm": {
     "name": "#%% md\n"
    }
   },
   "outputs": [],
   "source": [
    "common = []\n",
    "\n",
    "for i, (tg, count) in enumerate(fd_tri.most_common(5)):\n",
    "    tg_sent = \" \".join(tg)\n",
    "    print(f\"{count}: {tg_sent}\")\n",
    "    containing_sents = [sent for sent in sentences_set if tg_sent in sent]\n",
    "    containing_sents_embeddings = embedder.encode(containing_sents)\n",
    "    common.append({\n",
    "        \"trigram\": tg,\n",
    "        \"trigram_sent\": tg_sent,\n",
    "        \"containing_sents\": containing_sents,\n",
    "        \"containing_sents_embeddings\": containing_sents_embeddings\n",
    "    })\n",
    "    np.savetxt(os.path.join(patterns_folder, f\"common{str(i)}.tsv\"), containing_sents_embeddings, delimiter=\"\\t\")"
   ]
  },
  {
   "cell_type": "code",
   "execution_count": null,
   "metadata": {
    "pycharm": {
     "name": "#%% md\n"
    }
   },
   "outputs": [],
   "source": [
    "all_embeddings = [] #common[0][\"containing_sents_embeddings\"]\n",
    "labels = [] # [common[0][\"trigram_sent\"]] * len(common[0][\"containing_sents\"])\n",
    "\n",
    "for c in common:\n",
    "    all_embeddings.extend(c[\"containing_sents_embeddings\"])\n",
    "    labels.extend([c[\"trigram_sent\"]] * len(c[\"containing_sents\"]))\n",
    "    print(c[\"trigram_sent\"])\n",
    "\n",
    "np.savetxt(os.path.join(patterns_folder, f\"common.tsv\"), all_embeddings, delimiter=\"\\t\")\n",
    "\n",
    "with open(os.path.join(patterns_folder, \"common_labels.txt\"), \"w\") as all_labels:\n",
    "    all_labels.write(\"\\n\".join(labels))\n",
    "    all_labels.write(\"\\n\")"
   ]
  },
  {
   "cell_type": "code",
   "execution_count": null,
   "metadata": {},
   "outputs": [],
   "source": [
    "encoded_file_full_path = os.path.join(patterns_folder, \"encoded.npy\")\n",
    "\n",
    "if os.path.isfile(encoded_file_full_path):\n",
    "    question_embeddings = np.load(encoded_file_full_path)\n",
    "else:\n",
    "    question_embeddings = embedder.encode(sentences_set_list)\n",
    "    np.save(encoded_file_full_path, question_embeddings)"
   ]
  },
  {
   "cell_type": "code",
   "execution_count": 229,
   "metadata": {
    "pycharm": {
     "name": "#%%\n"
    }
   },
   "outputs": [],
   "source": [
    "different_sentences = list(exact_counter.keys())\n",
    "different_sentences_tokens = [s.split(' ') for s in different_sentences]\n",
    "different_sentences_indices = list(range(len(different_sentences_tokens)))"
   ]
  },
  {
   "cell_type": "code",
   "execution_count": 230,
   "metadata": {
    "pycharm": {
     "name": "#%%\n"
    }
   },
   "outputs": [],
   "source": [
    "PLOTS_FOLDER = os.path.join(\"spider_data\", \"plots\")"
   ]
  },
  {
   "cell_type": "code",
   "execution_count": 231,
   "metadata": {
    "pycharm": {
     "name": "#%%\n"
    }
   },
   "outputs": [],
   "source": [
    "SIMILARITY_N = 4\n",
    "\n",
    "def ngram_overlap(sent1_tokens, sent2_tokens):\n",
    "    \"\"\"\n",
    "    Return the n-gram overlap between two given sentences\n",
    "\n",
    "    :param sent1_tokens:\n",
    "    :type sent1_tokens:\n",
    "    :param sent2_tokens:\n",
    "    :type sent2_tokens:\n",
    "    :return:\n",
    "    :rtype:\n",
    "    \"\"\"\n",
    "    ngrams_sent1 = list(ngrams(sent1_tokens, SIMILARITY_N))\n",
    "    ngrams_sent2 = list(ngrams(sent2_tokens, SIMILARITY_N))\n",
    "    if len(ngrams_sent1) == 0 or len(ngrams_sent2) == 0:\n",
    "        return 0\n",
    "    return (sum(1 for n1 in ngrams_sent1 if n1 in ngrams_sent2) / float(len(ngrams_sent1)) + sum(1 for n2 in ngrams_sent2 if n2 in ngrams_sent1) / float(len(ngrams_sent2))) / 2.0\n",
    "\n",
    "def ngram_distance_index(index1, index2):\n",
    "    return 1 - ngram_overlap(different_sentences_tokens[int(index1)], different_sentences_tokens[int(index2)])"
   ]
  },
  {
   "cell_type": "code",
   "execution_count": 232,
   "metadata": {
    "pycharm": {
     "name": "#%%\n"
    }
   },
   "outputs": [
    {
     "name": "stdout",
     "output_type": "stream",
     "text": [
      "0.0\n"
     ]
    }
   ],
   "source": [
    "TEST_SENT_1 = 'how many {table} are there'.split(' ')\n",
    "TEST_SENT_2 = 'how many {table} do we have'.split(' ')\n",
    "\n",
    "print(ngram_overlap(TEST_SENT_1, TEST_SENT_2))"
   ]
  },
  {
   "cell_type": "code",
   "execution_count": 233,
   "metadata": {
    "pycharm": {
     "name": "#%%\n"
    }
   },
   "outputs": [],
   "source": [
    "from sklearn.metrics import pairwise_distances\n",
    "\n",
    "distances = pairwise_distances(np.asarray(different_sentences_indices).reshape(-1, 1), metric=ngram_distance_index)"
   ]
  },
  {
   "cell_type": "code",
   "execution_count": 234,
   "metadata": {
    "pycharm": {
     "name": "#%%\n"
    }
   },
   "outputs": [],
   "source": [
    "from sklearn.cluster import OPTICS\n",
    "\n",
    "clustering = OPTICS(metric=\"precomputed\").fit(distances)\n",
    "\n",
    "clustered_labels = clustering.labels_"
   ]
  },
  {
   "cell_type": "code",
   "execution_count": 235,
   "metadata": {
    "pycharm": {
     "name": "#%%\n"
    }
   },
   "outputs": [
    {
     "name": "stdout",
     "output_type": "stream",
     "text": [
      "0: 16\n",
      "1: 17\n",
      "2: 7\n",
      "3: 12\n",
      "4: 5\n",
      "5: 5\n",
      "6: 10\n",
      "7: 6\n",
      "8: 21\n",
      "9: 6\n",
      "10: 9\n",
      "11: 8\n",
      "12: 5\n",
      "13: 5\n",
      "14: 15\n",
      "15: 6\n",
      "16: 8\n",
      "17: 14\n",
      "18: 5\n",
      "19: 10\n",
      "20: 7\n",
      "21: 5\n",
      "22: 5\n",
      "23: 8\n",
      "24: 6\n",
      "25: 7\n",
      "26: 10\n",
      "27: 5\n",
      "28: 5\n",
      "29: 6\n",
      "30: 6\n",
      "31: 16\n",
      "32: 11\n",
      "33: 5\n",
      "34: 7\n",
      "35: 5\n",
      "36: 8\n",
      "37: 6\n",
      "38: 7\n",
      "39: 13\n",
      "40: 13\n",
      "41: 5\n",
      "42: 10\n",
      "43: 6\n",
      "44: 8\n",
      "45: 13\n",
      "46: 9\n",
      "47: 11\n",
      "48: 9\n",
      "49: 6\n",
      "50: 8\n",
      "51: 7\n",
      "52: 7\n",
      "53: 5\n",
      "54: 5\n",
      "55: 6\n",
      "56: 6\n",
      "57: 6\n",
      "58: 8\n",
      "59: 8\n",
      "60: 5\n",
      "61: 12\n",
      "62: 7\n",
      "63: 8\n",
      "64: 5\n",
      "65: 8\n",
      "66: 5\n",
      "67: 6\n",
      "68: 6\n",
      "69: 13\n",
      "70: 27\n",
      "71: 9\n",
      "72: 7\n",
      "73: 6\n",
      "74: 6\n",
      "75: 6\n",
      "76: 7\n",
      "77: 7\n",
      "78: 6\n",
      "79: 5\n",
      "80: 5\n",
      "81: 6\n",
      "82: 12\n",
      "83: 7\n",
      "84: 9\n",
      "85: 7\n",
      "86: 5\n",
      "87: 12\n",
      "88: 24\n",
      "89: 7\n",
      "90: 6\n",
      "91: 6\n",
      "92: 5\n",
      "93: 5\n",
      "94: 8\n",
      "95: 8\n",
      "96: 7\n",
      "97: 5\n",
      "98: 5\n",
      "99: 7\n",
      "100: 5\n",
      "No clustering found for 5388 sentences\n"
     ]
    }
   ],
   "source": [
    "clustered_sentences = [[] for i in range(max(clustered_labels) + 1)]\n",
    "clustered_sentences_indices = [[] for i in range(max(clustered_labels) + 1)]\n",
    "\n",
    "no_clustering = []\n",
    "no_clustering_indices = []\n",
    "\n",
    "for i, cl in enumerate(clustered_labels):\n",
    "    if cl >= 0:\n",
    "        clustered_sentences[cl].append(different_sentences[i])\n",
    "        clustered_sentences_indices[cl].append(i)\n",
    "    else:\n",
    "        no_clustering.append(different_sentences[i])\n",
    "        no_clustering_indices.append(i)\n",
    "\n",
    "indices_ordered_by_clusters = []\n",
    "\n",
    "for i in range(len(clustered_sentences)):\n",
    "    indices_ordered_by_clusters.extend(clustered_sentences_indices[i])\n",
    "    print(f\"{i}: {len(clustered_sentences[i])}\")\n",
    "\n",
    "print(f\"No clustering found for {len(no_clustering)} sentences\")"
   ]
  },
  {
   "cell_type": "code",
   "execution_count": 236,
   "metadata": {
    "pycharm": {
     "name": "#%%\n"
    }
   },
   "outputs": [],
   "source": [
    "import matplotlib.pyplot as plt\n",
    "import matplotlib.pylab as pylab"
   ]
  },
  {
   "cell_type": "code",
   "execution_count": 237,
   "metadata": {
    "pycharm": {
     "name": "#%%\n"
    }
   },
   "outputs": [
    {
     "data": {
      "image/png": "[encoded data removed]",
      "text/plain": [
       "<Figure size 288x288 with 1 Axes>"
      ]
     },
     "metadata": {
      "needs_background": "light"
     },
     "output_type": "display_data"
    }
   ],
   "source": [
    "colormap = pylab.cm.Blues\n",
    "colormap = colormap.reversed()\n",
    "\n",
    "pylab.matshow(distances, cmap=colormap)\n",
    "plt.savefig(os.path.join(PLOTS_FOLDER, f\"{SIMILARITY_N}.unsorted.png\"))\n",
    "plt.show()"
   ]
  },
  {
   "cell_type": "code",
   "execution_count": 238,
   "metadata": {
    "pycharm": {
     "name": "#%%\n"
    }
   },
   "outputs": [
    {
     "data": {
      "image/png": "[encoded data removed]",
      "text/plain": [
       "<Figure size 288x288 with 1 Axes>"
      ]
     },
     "metadata": {
      "needs_background": "light"
     },
     "output_type": "display_data"
    }
   ],
   "source": [
    "distances_ordered = pairwise_distances(np.asarray(indices_ordered_by_clusters).reshape(-1, 1), metric=ngram_distance_index)\n",
    "\n",
    "pylab.matshow(distances_ordered, cmap=colormap)\n",
    "plt.savefig(os.path.join(PLOTS_FOLDER, f\"{SIMILARITY_N}.detail.png\"))\n",
    "plt.show()"
   ]
  },
  {
   "cell_type": "code",
   "execution_count": 239,
   "metadata": {
    "pycharm": {
     "name": "#%%\n"
    }
   },
   "outputs": [
    {
     "data": {
      "image/png": "[encoded data removed]",
      "text/plain": [
       "<Figure size 288x288 with 1 Axes>"
      ]
     },
     "metadata": {
      "needs_background": "light"
     },
     "output_type": "display_data"
    }
   ],
   "source": [
    "indices_ordered_by_clusters.extend(no_clustering_indices)\n",
    "\n",
    "distances_ordered = pairwise_distances(np.asarray(indices_ordered_by_clusters).reshape(-1, 1), metric=ngram_distance_index)\n",
    "\n",
    "pylab.matshow(distances_ordered, cmap=colormap)\n",
    "plt.savefig(os.path.join(PLOTS_FOLDER, f\"{SIMILARITY_N}.sorted.png\"))\n",
    "plt.show()"
   ]
  },
  {
   "cell_type": "code",
   "execution_count": 240,
   "metadata": {
    "pycharm": {
     "name": "#%%\n"
    }
   },
   "outputs": [
    {
     "name": "stdout",
     "output_type": "stream",
     "text": [
      "Min Cluster size: 5\n",
      "Max Cluster size: 27\n",
      "Mean Cluster size: 8.07920792079208\n",
      "Clustered: 816\n",
      "Unclustered: 5388\n"
     ]
    }
   ],
   "source": [
    "cluster_sizes = [len(cluster) for cluster in clustered_sentences]\n",
    "\n",
    "print(f\"Min Cluster size: {min(cluster_sizes)}\")\n",
    "print(f\"Max Cluster size: {max(cluster_sizes)}\")\n",
    "print(f\"Mean Cluster size: {sum(cluster_sizes)/len(cluster_sizes)}\")\n",
    "\n",
    "unclustered_count = len(no_clustering)\n",
    "\n",
    "print(f\"Clustered: {len(different_sentences) - unclustered_count}\")\n",
    "print(f\"Unclustered: {unclustered_count}\")"
   ]
  },
  {
   "cell_type": "code",
   "execution_count": 241,
   "metadata": {
    "pycharm": {
     "name": "#%%\n"
    }
   },
   "outputs": [
    {
     "data": {
      "text/plain": [
       "['what are the {column} of {table}',\n",
       " 'what are the {column} of {table} aged {ne}',\n",
       " 'what are the {column} of {table} ordered alphabetically',\n",
       " 'what are the {column} of {table} from {ne}',\n",
       " 'what are the {column} of {table} held {ne}',\n",
       " 'what are the {column} of {table} without {table}',\n",
       " 'what are the {column} of {table} {column} {number}']"
      ]
     },
     "execution_count": 241,
     "metadata": {},
     "output_type": "execute_result"
    }
   ],
   "source": [
    "clustered_sentences[2]\n"
   ]
  }
 ],
 "metadata": {
  "kernelspec": {
   "display_name": "Python 3 (ipykernel)",
   "language": "python",
   "name": "python3"
  },
  "language_info": {
   "codemirror_mode": {
    "name": "ipython",
    "version": 3
   },
   "file_extension": ".py",
   "mimetype": "text/x-python",
   "name": "python",
   "nbconvert_exporter": "python",
   "pygments_lexer": "ipython3",
   "version": "3.8.5"
  }
 },
 "nbformat": 4,
 "nbformat_minor": 1
}
